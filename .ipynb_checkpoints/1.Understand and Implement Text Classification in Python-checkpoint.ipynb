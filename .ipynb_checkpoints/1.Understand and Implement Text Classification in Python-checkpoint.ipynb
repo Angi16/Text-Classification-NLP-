{
 "cells": [
  {
   "attachments": {},
   "cell_type": "markdown",
   "metadata": {},
   "source": [
    "\n",
    "# <font color='#fc0f7d'>Introduction</font>\n",
    "\n",
    "One of the widely used natural language processing task in different business problems is “Text Classification”. The goal of text classification is to automatically classify the text documents into one or more defined categories. Some examples of text classification are:\n",
    "\n",
    "* Understanding audience sentiment from social media,\n",
    "*    Detection of spam and non-spam emails,\n",
    "*    Auto tagging of customer queries, and\n",
    "*    Categorization of news articles into defined topics.\n",
    "\n",
    "\n",
    "## <font color='#fc0f7d'>Table of Contents</font>\n",
    "\n",
    "In this article, I will explain about the text classification and the step by step process to implement it in python.\n",
    "![](img/3.png)\n",
    " \n",
    " Text Classification is an example of supervised machine learning task since a labelled dataset containing text documents and their labels is used for train a classifier. An end-to-end text classification pipeline is composed of three main components:\n",
    "\n",
    "* **. Dataset Preparation:** The first step is the Dataset Preparation step which includes the process of loading a dataset and performing basic pre-processing. The dataset is then splitted into train and validation sets.\n",
    "* **. Feature Engineering:** The next step is the Feature Engineering in which the raw dataset is transformed into flat features which can be used in a machine learning model. This step also includes the process of creating new features from the existing data.\n",
    "* **. Model Training:** The final step is the Model Building step in which a machine learning model is trained on a labelled dataset.\n",
    "\n",
    "* **. Improve Performance of Text Classifier:** In this article, we will also look at the different ways to improve the performance of text classifiers.\n",
    "\n",
    "\n",
    " \n",
    "## <font color='#fc0f7d'>Getting our machine ready</font>\n",
    "\n",
    "Lets implement basic components in a step by step manner in order to create a text classification framework in python. To start with, import all the required libraries.\n",
    "\n",
    "You would need requisite libraries to run this code – you can install them at their individual official links\n",
    "\n",
    "* Pandas\n",
    "*    Scikit-learn\n",
    "*    XGBoost\n",
    "*    TextBlob\n",
    "*    Keras\n",
    "\n",
    "Libraries for dataset preparation, feature engineering, model training :-\n",
    "\n",
    ">![](img/4.png)"
   ]
  },
  {
   "cell_type": "markdown",
   "metadata": {},
   "source": [
    "\n",
    "## <font color='#fc0f7d'>1. Dataset preparation</font>\n",
    "\n",
    "For the purpose of this article, I am the using dataset of amazon reviews which can be downloaded at this link. The dataset consists of 3.6M text reviews and their labels, we will use only a small fraction of data. To prepare the dataset, load the downloaded data into a pandas dataframe containing two columns – text and label. \n",
    "\n",
    ">![](img/5.png)\n"
   ]
  },
  {
   "cell_type": "markdown",
   "metadata": {},
   "source": [
    "Next, we will split the dataset into training and validation sets so that we can train and test classifier. Also, we will encode our target column so that it can be used in machine learning models.\n",
    ">![](img/6.png)"
   ]
  },
  {
   "cell_type": "markdown",
   "metadata": {},
   "source": [
    "## <font color='#fc0f7d'>2. Feature Engineering</font>\n",
    "\n",
    "\n",
    "\n",
    "The next step is the feature engineering step. In this step, raw text data will be transformed into feature vectors and new features will be created using the existing dataset. We will implement the following different ideas in order to obtain relevant features from our dataset.\n",
    "\n",
    "2.1 Count Vectors as features\n",
    "2.2 TF-IDF Vectors as features\n",
    "\n",
    "* Word level\n",
    "*  N-Gram level\n",
    "*  Character level\n",
    "\n",
    "2.3 Word Embeddings as features\n",
    "2.4 Text / NLP based features\n",
    "2.5 Topic Models as features\n",
    "\n",
    "Lets look at the implementation of these ideas in detail.\n",
    "## <font color='#fc0f7d'>2.1 Count Vectors as features</font>\n",
    "\n",
    "Count Vector is a matrix notation of the dataset in which every row represents a document from the corpus, every column represents a term from the corpus, and every cell represents the frequency count of a particular term in a particular document.\n",
    "\n",
    ">![](img/7.png)"
   ]
  },
  {
   "cell_type": "markdown",
   "metadata": {},
   "source": [
    "## <font color='#fc0f7d'>2.2 TF-IDF Vectors as features</font>\n",
    "\n",
    "\n",
    "\n",
    "TF-IDF score represents the relative importance of a term in the document and the entire corpus. TF-IDF score is composed by two terms: the first computes the normalized Term Frequency (TF), the second term is the Inverse Document Frequency (IDF), computed as the logarithm of the number of the documents in the corpus divided by the number of documents where the specific term appears.\n",
    "\n",
    "TF(t) = (Number of times term t appears in a document) / (Total number of terms in the document)\n",
    "IDF(t) = log_e(Total number of documents / Number of documents with term t in it)\n",
    "\n",
    "TF-IDF Vectors can be generated at different levels of input tokens (words, characters, n-grams)\n",
    "\n",
    "**a. Word Level TF-IDF :** Matrix representing tf-idf scores of every term in different documents\n",
    "**b. N-gram Level TF-IDF :** N-grams are the combination of N terms together. This Matrix representing tf-idf scores of N-grams\n",
    "**c. Character Level TF-IDF :** Matrix representing tf-idf scores of character level n-grams in the corpus\n",
    "\n",
    "![](img/8.png)"
   ]
  },
  {
   "cell_type": "markdown",
   "metadata": {},
   "source": [
    "## <font color='#fc0f7d'>2.3 Word Embeddings</font>\n",
    "\n",
    "\n",
    "\n",
    "A word embedding is a form of representing words and documents using a dense vector representation. The position of a word within the vector space is learned from text and is based on the words that surround the word when it is used. Word embeddings can be trained using the input corpus itself or can be generated using pre-trained word embeddings such as Glove, FastText, and Word2Vec. Any one of them can be downloaded and used as transfer learning. \n",
    "\n",
    "Following snnipet shows how to use pre-trained word embeddings in the model. There are four essential steps:\n",
    "\n",
    "1.Loading the pretrained word embeddings\n",
    "2.Creating a tokenizer object\n",
    "3.Transforming text documents to sequence of tokens and pad them\n",
    "4.Create a mapping of token and their respective embeddings\n",
    "\n",
    "\n",
    ">![](img/9.png)"
   ]
  },
  {
   "cell_type": "markdown",
   "metadata": {},
   "source": [
    "## <font color='#fc0f7d'>2.4 Text / NLP based features</font>\n",
    "\n",
    "\n",
    "\n",
    "A number of extra text based features can also be created which sometimes are helpful for improving text classification models. Some examples are:\n",
    "\n",
    "* Word Count of the documents – total number of words in the documents\n",
    "* Character Count of the documents – total number of characters in the documents\n",
    "*    Average Word Density of the documents – average length of the words used in the documents\n",
    "*    Puncutation Count in the Complete Essay – total number of punctuation marks in the documents\n",
    "*    Upper Case Count in the Complete Essay – total number of upper count words in the documents\n",
    "*    Title Word Count in the Complete Essay – total number of proper case (title) words in the documents\n",
    "*   Frequency distribution of Part of Speech Tags:\n",
    "       * Noun Count\n",
    "       * Verb Count\n",
    "       * Adjective Count\n",
    "       * Adverb Count\n",
    "       * Pronoun Count\n",
    "\n",
    "These features are highly experimental ones and should be used according to the problem statement only.\n",
    "![](img/10.png)\n",
    "![](img/11.png)"
   ]
  },
  {
   "cell_type": "markdown",
   "metadata": {},
   "source": [
    "## <font color='#fc0f7d'>2.5 Topic Models as features</font>\n",
    "\n",
    "\n",
    "\n",
    "Topic Modelling is a technique to identify the groups of words (called a topic) from a collection of documents that contains best information in the collection. I have used Latent Dirichlet Allocation for generating Topic Modelling Features. LDA is an iterative model which starts from a fixed number of topics. Each topic is represented as a distribution over words, and each document is then represented as a distribution over topics. Although the tokens themselves are meaningless, the probability distributions over words provided by the topics provide a sense of the different ideas contained in the documents. \n",
    "Lets see its implementation:\n",
    "\n",
    "![](img/121.png)"
   ]
  },
  {
   "cell_type": "markdown",
   "metadata": {},
   "source": [
    "## <font color='#fc0f7d'>3. Model Building</font>\n",
    "\n",
    "\n",
    "\n",
    "The final step in the text classification framework is to train a classifier using the features created in the previous step. There are many different choices of machine learning models which can be used to train a final model. We will implement following different classifiers for this purpose:\n",
    "\n",
    "*    Naive Bayes Classifier\n",
    "*    Linear Classifier\n",
    "*    Support Vector Machine\n",
    "*    Bagging Models\n",
    "*    Boosting Models\n",
    "*    Shallow Neural Networks\n",
    "*    Deep Neural Networks\n",
    "      *  Convolutional Neural Network (CNN)\n",
    "      *  Long Short Term Modelr (LSTM)\n",
    "      *  Gated Recurrent Unit (GRU)\n",
    "      *  Bidirectional RNN\n",
    "      *  Recurrent Convolutional Neural Network (RCNN)\n",
    "      *  Other Variants of Deep Neural Networks\n",
    "\n",
    "Lets implement these models and understand their details. The following function is a utility function which can be used to train a model. It accepts the classifier, feature_vector of training data, labels of training data and feature vectors of valid data as inputs. Using these inputs, the model is trained and accuracy score is computed.\n",
    "\n",
    ">![](img/13.png)"
   ]
  },
  {
   "cell_type": "markdown",
   "metadata": {},
   "source": [
    "## <font color='#fc0f7d'>3.1 Naive Bayes</font>\n",
    "\n",
    "\n",
    "\n",
    "Implementing a naive bayes model using sklearn implementation with different features\n",
    "\n",
    "Naive Bayes is a classification technique based on Bayes’ Theorem with an assumption of independence among predictors. A Naive Bayes classifier assumes that the presence of a particular feature in a class is unrelated to the presence of any other feature.\n",
    "\n",
    ">![](img/14.png)\n",
    ">>![](img/15.png)"
   ]
  },
  {
   "cell_type": "markdown",
   "metadata": {},
   "source": [
    "## <font color='#fc0f7d'>3.2 Linear Classifier</font>\n",
    "\n",
    "\n",
    "\n",
    "Implementing a Linear Classifier (Logistic Regression)\n",
    "\n",
    "Logistic regression measures the relationship between the categorical dependent variable and one or more independent variables by estimating probabilities using a logistic/sigmoid function. |\n",
    ">![](img/16.png)\n",
    ">>![](img/17.png)"
   ]
  },
  {
   "cell_type": "markdown",
   "metadata": {},
   "source": [
    "## <font color='#fc0f7d'>3.3 Implementing a SVM Model</font>\n",
    "\n",
    "\n",
    "\n",
    "Support Vector Machine (SVM) is a supervised machine learning algorithm which can be used for both classification or regression challenges. The model extracts a best possible hyper-plane / line that segregates the two classes. \n",
    "\n",
    ">![](img/18.png)\n",
    ">>![](img/19.png)"
   ]
  },
  {
   "cell_type": "markdown",
   "metadata": {},
   "source": [
    "## <font color='#fc0f7d'>3.4 Bagging Model</font>\n",
    "\n",
    "\n",
    "Implementing a Random Forest Model\n",
    "\n",
    "Random Forest models are a type of ensemble models, particularly bagging models. They are part of the tree based model family. \n",
    ">![](img/20.png)\n",
    ">>![](img/21.png)"
   ]
  },
  {
   "cell_type": "markdown",
   "metadata": {},
   "source": [
    "## <font color='#fc0f7d'>3.5 Boosting Model</font>\n",
    "\n",
    "\n",
    "\n",
    "Implementing Xtereme Gradient Boosting Model\n",
    "\n",
    "Boosting models are another type of ensemble models part of tree based models. Boosting is a machine learning ensemble meta-algorithm for primarily reducing bias, and also variance in supervised learning, and a family of machine learning algorithms that convert weak learners to strong ones. A weak learner is defined to be a classifier that is only slightly correlated with the true classification (it can label examples better than random guessing). Read more about these models here\n",
    "\n",
    "![](img/22.png)\n",
    "![](img/23.png)\n",
    "![](img/24.png)\n"
   ]
  },
  {
   "cell_type": "markdown",
   "metadata": {},
   "source": [
    "## <font color='#fc0f7d'>3.6 Shallow Neural Networks</font>\n",
    "\n",
    "\n",
    "\n",
    "A neural network is a mathematical model that is designed to behave similar to biological neurons and nervous system. These models are used to recognize complex patterns and relationships that exists within a labelled data. A shallow neural network contains mainly three types of layers – input layer, hidden layer, and output layer. \n",
    "![](img/25.png)\n",
    "![](img/26.png)\n",
    "![](img/27.png)"
   ]
  },
  {
   "cell_type": "markdown",
   "metadata": {},
   "source": [
    "## <font color='#fc0f7d'>3.7 Deep Neural Networks</font>\n",
    "\n",
    "\n",
    "Deep Neural Networks are more complex neural networks in which the hidden layers performs much more complex operations than simple sigmoid or relu activations. Different types of deep learning models can be applied in text classification problems.\n",
    ">![](img/28.png)"
   ]
  },
  {
   "cell_type": "markdown",
   "metadata": {},
   "source": [
    "## <font color='#fc0f7d'>3.7.1 Convolutional Neural Network</font>\n",
    "\n",
    "\n",
    "In Convolutional neural networks, convolutions over the input layer are used to compute the output. This results in local connections, where each region of the input is connected to a neuron in the output. Each layer applies different filters and combines their results.\n",
    ">![](img/29.png)\n",
    "![](img/30.png)"
   ]
  },
  {
   "cell_type": "markdown",
   "metadata": {},
   "source": [
    "## <font color='#fc0f7d'>3.7.2 Recurrent Neural Network – LSTM</font>\n",
    "\n",
    "\n",
    "Unlike Feed-forward neural networks in which activation outputs are propagated only in one direction, the activation outputs from neurons propagate in both directions (from inputs to outputs and from outputs to inputs) in Recurrent Neural Networks. This creates loops in the neural network architecture which acts as a ‘memory state’ of the neurons. This state allows the neurons an ability to remember what have been learned so far.\n",
    "\n",
    "The memory state in RNNs gives an advantage over traditional neural networks but a problem called Vanishing Gradient is associated with them. In this problem, while learning with a large number of layers, it becomes really hard for the network to learn and tune the parameters of the earlier layers. To address this problem, A new type of RNNs called LSTMs (Long Short Term Memory) Models have been developed.\n",
    "![](img/31.png)\n",
    "![](img/32.png)"
   ]
  },
  {
   "cell_type": "markdown",
   "metadata": {},
   "source": [
    "## <font color='#fc0f7d'>3.7.3 Recurrent Neural Network – GRU</font>\n",
    "\n",
    "\n",
    "\n",
    "Gated Recurrent Units are another form of recurrent neural networks. Lets add a layer of GRU instead of LSTM in our network.\n",
    "\n",
    "![](img/33.png)"
   ]
  },
  {
   "cell_type": "markdown",
   "metadata": {},
   "source": [
    "## <font color='#fc0f7d'>3.7.4 Bidirectional RNN</font>\n",
    "\n",
    "\n",
    "\n",
    "RNN layers can be wrapped in Bidirectional layers as well. Lets wrap our GRU layer in bidirectional layer.\n",
    "\n",
    "![](img/34.png)"
   ]
  },
  {
   "cell_type": "markdown",
   "metadata": {},
   "source": [
    "## <font color='#fc0f7d'>3.7.5 Recurrent Convolutional Neural Network</font>\n",
    "\n",
    "\n",
    "\n",
    "Once the essential architectures have been tried out, one can try different variants of these layers such as recurrent convolutional neural network. Another variants can be:\n",
    "\n",
    "* Hierarichial Attention Networks\n",
    "*   Sequence to Sequence Models with Attention\n",
    "*    Bidirectional Recurrent Convolutional Neural Networks\n",
    "*    CNNs and RNNs with more number of layers\n",
    "\n",
    "\n",
    "![](img/35.png)"
   ]
  },
  {
   "cell_type": "markdown",
   "metadata": {},
   "source": [
    "## <font color='#fc0f7d'>Improving Text Classification Models</font>\n",
    "\n",
    "\n",
    "While the above framework can be applied to a number of text classification problems, but to achieve a good accuracy some improvements can be done in the overall framework. For example, following are some tips to improve the performance of text classification models and this framework.\n",
    "\n",
    "1. Text Cleaning : text cleaning can help to reducue the noise present in text data in the form of stopwords, punctuations marks, suffix variations etc. This article can help to understand how to implement text classification in detail.\n",
    "\n",
    "2. Hstacking Text / NLP features with text feature vectors : In the feature engineering section, we generated a number of different feature vectros, combining them together can help to improve the accuracy of the classifier.\n",
    "\n",
    "3. Hyperparamter Tuning in modelling : Tuning the paramters is an important step, a number of parameters such as tree length, leafs, network paramters etc can be fine tuned to get a best fit model.\n",
    "\n",
    "4. Ensemble Models : Stacking different models and blending their outputs can help to further improve the results. "
   ]
  }
 ],
 "metadata": {
  "kernelspec": {
   "display_name": "Python 3",
   "language": "python",
   "name": "python3"
  },
  "language_info": {
   "codemirror_mode": {
    "name": "ipython",
    "version": 3
   },
   "file_extension": ".py",
   "mimetype": "text/x-python",
   "name": "python",
   "nbconvert_exporter": "python",
   "pygments_lexer": "ipython3",
   "version": "3.6.5rc1"
  }
 },
 "nbformat": 4,
 "nbformat_minor": 2
}
